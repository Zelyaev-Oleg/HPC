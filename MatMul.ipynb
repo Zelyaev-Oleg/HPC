{
 "cells": [
  {
   "cell_type": "code",
   "execution_count": 3,
   "id": "980594b4-dac3-4e64-9a33-3d7f6738f371",
   "metadata": {
    "tags": []
   },
   "outputs": [
    {
     "name": "stdout",
     "output_type": "stream",
     "text": [
      "nvcc: NVIDIA (R) Cuda compiler driver\n",
      "Copyright (c) 2005-2021 NVIDIA Corporation\n",
      "Built on Sun_Feb_14_21:12:58_PST_2021\n",
      "Cuda compilation tools, release 11.2, V11.2.152\n",
      "Build cuda_11.2.r11.2/compiler.29618528_0\n"
     ]
    }
   ],
   "source": [
    "!nvcc --version"
   ]
  },
  {
   "cell_type": "code",
   "execution_count": 4,
   "id": "eb3d6a90-6ee8-47d5-b18e-19fe7842330c",
   "metadata": {
    "tags": []
   },
   "outputs": [
    {
     "name": "stdout",
     "output_type": "stream",
     "text": [
      "Collecting git+https://github.com/andreinechaev/nvcc4jupyter.git\n",
      "  Cloning https://github.com/andreinechaev/nvcc4jupyter.git to /tmp/pip-req-build-d3ztp0na\n",
      "  Running command git clone --filter=blob:none --quiet https://github.com/andreinechaev/nvcc4jupyter.git /tmp/pip-req-build-d3ztp0na\n",
      "  Resolved https://github.com/andreinechaev/nvcc4jupyter.git to commit aac710a35f52bb78ab34d2e52517237941399eff\n",
      "  Preparing metadata (setup.py) ... \u001b[?25ldone\n",
      "\u001b[33mWARNING: Running pip as the 'root' user can result in broken permissions and conflicting behaviour with the system package manager. It is recommended to use a virtual environment instead: https://pip.pypa.io/warnings/venv\u001b[0m\u001b[33m\n",
      "\u001b[0m\u001b[?25h"
     ]
    }
   ],
   "source": [
    "!pip install git+https://github.com/andreinechaev/nvcc4jupyter.git"
   ]
  },
  {
   "cell_type": "code",
   "execution_count": 5,
   "id": "ddfc8258-7806-42cd-bf0c-188c4213ae6d",
   "metadata": {
    "tags": []
   },
   "outputs": [
    {
     "name": "stdout",
     "output_type": "stream",
     "text": [
      "directory /notebooks/src already exists\n",
      "Out bin /notebooks/result.out\n"
     ]
    }
   ],
   "source": [
    "%load_ext nvcc_plugin"
   ]
  },
  {
   "cell_type": "code",
   "execution_count": 6,
   "id": "9a7a8a8b-50ae-4027-9106-2c002a1bd3fe",
   "metadata": {},
   "outputs": [
    {
     "name": "stdout",
     "output_type": "stream",
     "text": [
      "Matrix size - 1010x1010 and 1010x1010\n",
      "Time taken by CPU function: 13792 milliseconds\n",
      "Time taken by GPU function: 186 milliseconds\n",
      "\n"
     ]
    }
   ],
   "source": [
    "%%cu\n",
    "#include <algorithm>\n",
    "#include <cstdlib>\n",
    "#include <chrono>\n",
    "#include <cassert>\n",
    "#include <iostream>\n",
    "#include <string> // to_string\n",
    "\n",
    "using namespace std;\n",
    "using namespace std::chrono;\n",
    "\n",
    "float* address_mat1 = NULL;\n",
    "float* address_mat2 = NULL;\n",
    "float* address_matFinal = NULL;\n",
    "\n",
    "void init_matrix(float* mat, int h, int w) {\n",
    "    for (int i = 0; i < h * w; i++) {\n",
    "        mat[i] = rand() % 100 / 2.0f;\n",
    "    }\n",
    "}\n",
    "\n",
    "float cpu_matmul(const float* mat1, const float* mat2, float* finalMat, const int h1, const int w1, const int w2) {  \n",
    "\tfor (int i = 0; i < h1; i++) {\n",
    "\t\tfor (int j = 0;j < w2; j++) {\n",
    "\t\t\tfor (int k = 0; k < w1; k++) {\n",
    "\t\t\t\tfinalMat[i * h1 + j] += mat1[i * h1 + k] * mat2[k * w1 + j];\n",
    "\t\t\t}\n",
    "\t\t}\n",
    "\t}\n",
    "}\n",
    "\n",
    "__global__ void matrixMul(const float* a, const float* b, float* c, int h1, int w1, int w2) {\n",
    "\n",
    "\tint row = blockIdx.y * blockDim.y + threadIdx.y;\n",
    "\tint col = blockIdx.x * blockDim.x + threadIdx.x;\n",
    "\n",
    "\tif (row < h1 && col < w2) {\n",
    "\t\tfloat accum = 0.0f;\n",
    "\t\tfor (int i = 0; i < w1; i++) {\n",
    "\t\t\taccum += a[row * h1 + i] * b[i * w1 + col];\n",
    "\t\t}\n",
    "\t\tc[row * h1 + col] = accum;\n",
    "\t}\n",
    "}\n",
    "\n",
    "float gpu_matmul(const float* mat1, const float* mat2, float* finalMat, const int h1, const int w1, const int w2, const int threads_x, const int threads_y) {\n",
    "\n",
    "    // Allocate memory in cuda device memory\n",
    "\tcudaMalloc(&address_mat1,     h1 * w1 * sizeof(float));\n",
    "\tcudaMalloc(&address_mat2,     w1 * w2 * sizeof(float));\n",
    "\tcudaMalloc(&address_matFinal, h1 * w2 * sizeof(float));\n",
    "\n",
    "    // Transfer the data to the device\n",
    "    size_t size_mat1 =      h1 * w1 * sizeof(float);\n",
    "    size_t size_mat2 =      w1 * w2 * sizeof(float);\n",
    "    size_t size_mat_final = h1 * w2 * sizeof(float);\n",
    "    \n",
    "    // Copy matrix from host memory to device memory\n",
    "    cudaMemcpy(address_mat1, mat1, size_mat1, cudaMemcpyHostToDevice); \n",
    "    cudaMemcpy(address_mat2, mat2, size_mat2, cudaMemcpyHostToDevice);\n",
    "\n",
    "\t// Kernel params\n",
    "\tdim3 THREADS(threads_x, threads_y);\n",
    "\tdim3 BLOCKS((h1 + THREADS.x - 1) / THREADS.x, (w2 + THREADS.y - 1) / THREADS.y);\n",
    "\n",
    "\tmatrixMul<<<BLOCKS, THREADS>>>(address_mat1, address_mat2, address_matFinal, h1, w1, w2);\n",
    "    \n",
    "    // Waiting for all threads ade done\n",
    "\tcudaDeviceSynchronize();\n",
    "    \n",
    "    // Transfer the data to the host\n",
    "    cudaMemcpy(finalMat, address_matFinal, size_mat_final, cudaMemcpyDeviceToHost);\n",
    "    \n",
    "    // Dispose CUDA memory\n",
    "    cudaFree(address_mat1);\n",
    "\tcudaFree(address_mat2);\n",
    "\tcudaFree(address_matFinal);\n",
    "}\n",
    "\n",
    "\n",
    "void check_result(const float* mat1, const float* mat2, const int h1, const int w1) {   \n",
    "    for (int i = 0; i < h1 * w1; i++) {\n",
    "        assert(mat1[i] == mat2[i]);\n",
    "    }\n",
    "}\n",
    "\n",
    "float getCPUDuration(const float* mat1, const float* mat2, float* finalMat, const int h1, const int w1, const int w2) {\n",
    "    auto startCPU = high_resolution_clock::now();\n",
    "    cpu_matmul(mat1, mat2, finalMat, h1, w1, w2);\n",
    "    auto stopCPU = high_resolution_clock::now();\n",
    "    auto durationCPU = duration_cast<milliseconds>(stopCPU - startCPU);\n",
    "    return durationCPU.count();\n",
    "}\n",
    "\n",
    "float getGPUDuration(const float* mat1, const float* mat2, float* finalMat, const int h1, const int w1, const int w2) {\n",
    "    auto startGPU = high_resolution_clock::now();\n",
    "    gpu_matmul(mat1, mat2, finalMat, h1, w1, w2, 16, 32);\n",
    "    auto stopGPU = high_resolution_clock::now();\n",
    "    auto durationGPU = duration_cast<milliseconds>(stopGPU - startGPU);\n",
    "    return durationGPU.count();\n",
    "}\n",
    "\n",
    "int main() {\n",
    "    \n",
    "    int h1 = 10, w1 = 10, h2 = 10, w2 = 10;\n",
    "    while (h1 < 1000) {\n",
    "        h1 = h1 + 1000;\n",
    "        w1 = w1 + 1000;\n",
    "        h2 = h2 + 1000;\n",
    "        w2 = w2 + 1000;\n",
    "        \n",
    "        float* mat1 = (float*)malloc(h1 * w1 * sizeof(float));\n",
    "        float* mat2 = (float*)malloc(h2 * w2 * sizeof(float));\n",
    "        float* mat_finalCPU = (float*)malloc(h1 * w2 * sizeof(float));\n",
    "        float* mat_finalGPU = (float*)malloc(h1 * w2 * sizeof(float));\n",
    "    \n",
    "        init_matrix(mat1, h1, w1);\n",
    "        init_matrix(mat2, h2, w2);\n",
    "\n",
    "        cout << \"Matrix size - \" << h1 << \"x\" << w1 << \" and \" << h2 << \"x\" << w2 << endl;\n",
    "    \n",
    "        cout << \"Time taken by CPU function: \" \n",
    "             << getCPUDuration(mat1, mat2, mat_finalCPU, h1, w1, w2) << \" milliseconds\" << endl;\n",
    " \n",
    "        cout << \"Time taken by GPU function: \" \n",
    "             << getGPUDuration(mat1, mat2, mat_finalGPU, h1, w1, w2) << \" milliseconds\" << endl;\n",
    "\n",
    "        check_result(mat_finalCPU, mat_finalGPU, h1, w2);\n",
    "        \n",
    "        free(mat1);\n",
    "        free(mat2);\n",
    "        free(mat_finalCPU);\n",
    "        free(mat_finalGPU);\n",
    "    }\n",
    "    return 0; \n",
    "}"
   ]
  },
  {
   "cell_type": "code",
   "execution_count": 7,
   "id": "f0c0d979-f9f9-446c-86de-b6d589bc0a1c",
   "metadata": {},
   "outputs": [
    {
     "data": {
      "image/png": "[encoded data removed]",
      "text/plain": [
       "<Figure size 432x288 with 1 Axes>"
      ]
     },
     "metadata": {
      "needs_background": "light"
     },
     "output_type": "display_data"
    }
   ],
   "source": [
    "import matplotlib.pyplot as plt\n",
    "\n",
    "cpu = [7267, 112964, 452297, 1166480, 2303390, 4018320]\n",
    "gpu = [193, 161, 494, 1171, 2262, 4024]\n",
    "size = [1000, 2000, 3000, 4000, 5000, 6000]\n",
    "\n",
    "fig, ax = plt.subplots()\n",
    "ax.plot(size, cpu, label=\"cpu\")\n",
    "ax.plot(size, gpu, label=\"gpu\")\n",
    "ax.legend()\n",
    "\n",
    "plt.show()"
   ]
  },
  {
   "cell_type": "code",
   "execution_count": null,
   "id": "cb09890f-c5c7-4fd8-8adf-20825a92ea52",
   "metadata": {},
   "outputs": [],
   "source": []
  }
 ],
 "metadata": {
  "kernelspec": {
   "display_name": "Python 3 (ipykernel)",
   "language": "python",
   "name": "python3"
  },
  "language_info": {
   "codemirror_mode": {
    "name": "ipython",
    "version": 3
   },
   "file_extension": ".py",
   "mimetype": "text/x-python",
   "name": "python",
   "nbconvert_exporter": "python",
   "pygments_lexer": "ipython3",
   "version": "3.9.13"
  }
 },
 "nbformat": 4,
 "nbformat_minor": 5
}
